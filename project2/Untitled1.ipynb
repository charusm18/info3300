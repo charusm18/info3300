{
 "cells": [
  {
   "cell_type": "code",
   "execution_count": 18,
   "metadata": {},
   "outputs": [],
   "source": [
    "import pandas as pd"
   ]
  },
  {
   "cell_type": "code",
   "execution_count": 19,
   "metadata": {},
   "outputs": [],
   "source": [
    "crime = pd.read_csv('police.csv',encoding='cp1252')\n",
    "fips = pd.read_csv('fips.csv',encoding='cp1252')\n",
    "stateAbr = pd.read_csv('us-state-names.tsv',sep='\\t')"
   ]
  },
  {
   "cell_type": "code",
   "execution_count": 13,
   "metadata": {},
   "outputs": [
    {
     "data": {
      "text/html": [
       "<div>\n",
       "<style scoped>\n",
       "    .dataframe tbody tr th:only-of-type {\n",
       "        vertical-align: middle;\n",
       "    }\n",
       "\n",
       "    .dataframe tbody tr th {\n",
       "        vertical-align: top;\n",
       "    }\n",
       "\n",
       "    .dataframe thead th {\n",
       "        text-align: right;\n",
       "    }\n",
       "</style>\n",
       "<table border=\"1\" class=\"dataframe\">\n",
       "  <thead>\n",
       "    <tr style=\"text-align: right;\">\n",
       "      <th></th>\n",
       "      <th>NAME</th>\n",
       "      <th>STATE</th>\n",
       "      <th>STFP</th>\n",
       "    </tr>\n",
       "  </thead>\n",
       "  <tbody>\n",
       "    <tr>\n",
       "      <td>0</td>\n",
       "      <td>Autauga</td>\n",
       "      <td>AL</td>\n",
       "      <td>1001</td>\n",
       "    </tr>\n",
       "    <tr>\n",
       "      <td>1</td>\n",
       "      <td>Baldwin</td>\n",
       "      <td>AL</td>\n",
       "      <td>1003</td>\n",
       "    </tr>\n",
       "    <tr>\n",
       "      <td>2</td>\n",
       "      <td>Barbour</td>\n",
       "      <td>AL</td>\n",
       "      <td>1005</td>\n",
       "    </tr>\n",
       "    <tr>\n",
       "      <td>3</td>\n",
       "      <td>Bibb</td>\n",
       "      <td>AL</td>\n",
       "      <td>1007</td>\n",
       "    </tr>\n",
       "    <tr>\n",
       "      <td>4</td>\n",
       "      <td>Blount</td>\n",
       "      <td>AL</td>\n",
       "      <td>1009</td>\n",
       "    </tr>\n",
       "    <tr>\n",
       "      <td>...</td>\n",
       "      <td>...</td>\n",
       "      <td>...</td>\n",
       "      <td>...</td>\n",
       "    </tr>\n",
       "    <tr>\n",
       "      <td>3205</td>\n",
       "      <td>Toa Alta Municipio</td>\n",
       "      <td>PR</td>\n",
       "      <td>72135</td>\n",
       "    </tr>\n",
       "    <tr>\n",
       "      <td>3206</td>\n",
       "      <td>Toa Baja Municipio</td>\n",
       "      <td>PR</td>\n",
       "      <td>72137</td>\n",
       "    </tr>\n",
       "    <tr>\n",
       "      <td>3207</td>\n",
       "      <td>Trujillo Alto Municipio</td>\n",
       "      <td>PR</td>\n",
       "      <td>72139</td>\n",
       "    </tr>\n",
       "    <tr>\n",
       "      <td>3208</td>\n",
       "      <td>Utuado Municipio</td>\n",
       "      <td>PR</td>\n",
       "      <td>72141</td>\n",
       "    </tr>\n",
       "    <tr>\n",
       "      <td>3209</td>\n",
       "      <td>Vega Alta Municipio</td>\n",
       "      <td>PR</td>\n",
       "      <td>72143</td>\n",
       "    </tr>\n",
       "  </tbody>\n",
       "</table>\n",
       "<p>3210 rows × 3 columns</p>\n",
       "</div>"
      ],
      "text/plain": [
       "                         NAME STATE   STFP\n",
       "0                     Autauga    AL   1001\n",
       "1                     Baldwin    AL   1003\n",
       "2                     Barbour    AL   1005\n",
       "3                        Bibb    AL   1007\n",
       "4                      Blount    AL   1009\n",
       "...                       ...   ...    ...\n",
       "3205       Toa Alta Municipio    PR  72135\n",
       "3206       Toa Baja Municipio    PR  72137\n",
       "3207  Trujillo Alto Municipio    PR  72139\n",
       "3208         Utuado Municipio    PR  72141\n",
       "3209      Vega Alta Municipio    PR  72143\n",
       "\n",
       "[3210 rows x 3 columns]"
      ]
     },
     "execution_count": 13,
     "metadata": {},
     "output_type": "execute_result"
    }
   ],
   "source": []
  },
  {
   "cell_type": "code",
   "execution_count": 20,
   "metadata": {
    "scrolled": false
   },
   "outputs": [],
   "source": [
    "#create a dictionary with state name in lowercase to abreviation\n",
    "stateDict = {}\n",
    "for i in range(len(stateAbr['name'])):\n",
    "    stateDict[stateAbr['name'][i].lower()] = stateAbr['code'][i] "
   ]
  },
  {
   "cell_type": "code",
   "execution_count": 21,
   "metadata": {},
   "outputs": [
    {
     "name": "stderr",
     "output_type": "stream",
     "text": [
      "C:\\Users\\charu\\Anaconda3\\lib\\site-packages\\ipykernel_launcher.py:2: SettingWithCopyWarning: \n",
      "A value is trying to be set on a copy of a slice from a DataFrame\n",
      "\n",
      "See the caveats in the documentation: http://pandas.pydata.org/pandas-docs/stable/user_guide/indexing.html#returning-a-view-versus-a-copy\n",
      "  \n"
     ]
    }
   ],
   "source": [
    "for i in range(len(crime['State'])):\n",
    "    crime['State'][i] = stateDict[crime['State'][i].lower()]"
   ]
  },
  {
   "cell_type": "code",
   "execution_count": 22,
   "metadata": {},
   "outputs": [
    {
     "name": "stderr",
     "output_type": "stream",
     "text": [
      "C:\\Users\\charu\\Anaconda3\\lib\\site-packages\\ipykernel_launcher.py:3: SettingWithCopyWarning: \n",
      "A value is trying to be set on a copy of a slice from a DataFrame\n",
      "\n",
      "See the caveats in the documentation: http://pandas.pydata.org/pandas-docs/stable/user_guide/indexing.html#returning-a-view-versus-a-copy\n",
      "  This is separate from the ipykernel package so we can avoid doing imports until\n"
     ]
    }
   ],
   "source": [
    "#remove extra spaces in the fips dataset\n",
    "for i in range(len(fips['NAME'])):\n",
    "    fips['NAME'][i] = fips['NAME'][i].rstrip()"
   ]
  },
  {
   "cell_type": "code",
   "execution_count": 23,
   "metadata": {},
   "outputs": [
    {
     "name": "stderr",
     "output_type": "stream",
     "text": [
      "C:\\Users\\charu\\Anaconda3\\lib\\site-packages\\ipykernel_launcher.py:4: SettingWithCopyWarning: \n",
      "A value is trying to be set on a copy of a slice from a DataFrame\n",
      "\n",
      "See the caveats in the documentation: http://pandas.pydata.org/pandas-docs/stable/user_guide/indexing.html#returning-a-view-versus-a-copy\n",
      "  after removing the cwd from sys.path.\n"
     ]
    }
   ],
   "source": [
    "for i in range(len(crime['State'])):\n",
    "    fip = fips.loc[(fips['STATE'] == crime['State'][i]) & (fips['NAME'] == crime['County'][i])]['STFP'].values\n",
    "    if(len(fip) > 0):\n",
    "        crime['FIPS'][i] = fips.loc[(fips['STATE'] == crime['State'][i]) & (fips['NAME'] == crime['County'][i])]['STFP'].values[0]\n",
    "               "
   ]
  },
  {
   "cell_type": "code",
   "execution_count": 24,
   "metadata": {},
   "outputs": [
    {
     "data": {
      "text/html": [
       "<div>\n",
       "<style scoped>\n",
       "    .dataframe tbody tr th:only-of-type {\n",
       "        vertical-align: middle;\n",
       "    }\n",
       "\n",
       "    .dataframe tbody tr th {\n",
       "        vertical-align: top;\n",
       "    }\n",
       "\n",
       "    .dataframe thead th {\n",
       "        text-align: right;\n",
       "    }\n",
       "</style>\n",
       "<table border=\"1\" class=\"dataframe\">\n",
       "  <thead>\n",
       "    <tr style=\"text-align: right;\">\n",
       "      <th></th>\n",
       "      <th>FIPS</th>\n",
       "      <th>State</th>\n",
       "      <th>County</th>\n",
       "      <th>Total_law</th>\n",
       "      <th>Total\\r\\nofficers</th>\n",
       "      <th>Total\\r\\ncivilians</th>\n",
       "    </tr>\n",
       "  </thead>\n",
       "  <tbody>\n",
       "    <tr>\n",
       "      <td>0</td>\n",
       "      <td>1001.0</td>\n",
       "      <td>AL</td>\n",
       "      <td>Autauga</td>\n",
       "      <td>43</td>\n",
       "      <td>32</td>\n",
       "      <td>11</td>\n",
       "    </tr>\n",
       "    <tr>\n",
       "      <td>1</td>\n",
       "      <td>1003.0</td>\n",
       "      <td>AL</td>\n",
       "      <td>Baldwin</td>\n",
       "      <td>319</td>\n",
       "      <td>135</td>\n",
       "      <td>184</td>\n",
       "    </tr>\n",
       "    <tr>\n",
       "      <td>2</td>\n",
       "      <td>1007.0</td>\n",
       "      <td>AL</td>\n",
       "      <td>Bibb</td>\n",
       "      <td>12</td>\n",
       "      <td>11</td>\n",
       "      <td>1</td>\n",
       "    </tr>\n",
       "    <tr>\n",
       "      <td>3</td>\n",
       "      <td>1009.0</td>\n",
       "      <td>AL</td>\n",
       "      <td>Blount</td>\n",
       "      <td>48</td>\n",
       "      <td>44</td>\n",
       "      <td>4</td>\n",
       "    </tr>\n",
       "    <tr>\n",
       "      <td>4</td>\n",
       "      <td>1033.0</td>\n",
       "      <td>AL</td>\n",
       "      <td>Colbert</td>\n",
       "      <td>57</td>\n",
       "      <td>31</td>\n",
       "      <td>26</td>\n",
       "    </tr>\n",
       "    <tr>\n",
       "      <td>...</td>\n",
       "      <td>...</td>\n",
       "      <td>...</td>\n",
       "      <td>...</td>\n",
       "      <td>...</td>\n",
       "      <td>...</td>\n",
       "      <td>...</td>\n",
       "    </tr>\n",
       "    <tr>\n",
       "      <td>2503</td>\n",
       "      <td>56035.0</td>\n",
       "      <td>WY</td>\n",
       "      <td>Sublette</td>\n",
       "      <td>72</td>\n",
       "      <td>55</td>\n",
       "      <td>17</td>\n",
       "    </tr>\n",
       "    <tr>\n",
       "      <td>2504</td>\n",
       "      <td>56037.0</td>\n",
       "      <td>WY</td>\n",
       "      <td>Sweetwater</td>\n",
       "      <td>86</td>\n",
       "      <td>37</td>\n",
       "      <td>49</td>\n",
       "    </tr>\n",
       "    <tr>\n",
       "      <td>2505</td>\n",
       "      <td>56041.0</td>\n",
       "      <td>WY</td>\n",
       "      <td>Uinta</td>\n",
       "      <td>49</td>\n",
       "      <td>35</td>\n",
       "      <td>14</td>\n",
       "    </tr>\n",
       "    <tr>\n",
       "      <td>2506</td>\n",
       "      <td>56043.0</td>\n",
       "      <td>WY</td>\n",
       "      <td>Washakie</td>\n",
       "      <td>8</td>\n",
       "      <td>7</td>\n",
       "      <td>1</td>\n",
       "    </tr>\n",
       "    <tr>\n",
       "      <td>2507</td>\n",
       "      <td>56045.0</td>\n",
       "      <td>WY</td>\n",
       "      <td>Weston</td>\n",
       "      <td>7</td>\n",
       "      <td>7</td>\n",
       "      <td>0</td>\n",
       "    </tr>\n",
       "  </tbody>\n",
       "</table>\n",
       "<p>2508 rows × 6 columns</p>\n",
       "</div>"
      ],
      "text/plain": [
       "         FIPS State      County Total_law Total\\r\\nofficers Total\\r\\ncivilians\n",
       "0      1001.0    AL     Autauga        43                32                 11\n",
       "1      1003.0    AL     Baldwin       319               135                184\n",
       "2      1007.0    AL        Bibb        12                11                  1\n",
       "3      1009.0    AL      Blount        48                44                  4\n",
       "4      1033.0    AL     Colbert        57                31                 26\n",
       "...       ...   ...         ...       ...               ...                ...\n",
       "2503  56035.0    WY    Sublette        72                55                 17\n",
       "2504  56037.0    WY  Sweetwater        86                37                 49\n",
       "2505  56041.0    WY       Uinta        49                35                 14\n",
       "2506  56043.0    WY    Washakie         8                 7                  1\n",
       "2507  56045.0    WY      Weston         7                 7                  0\n",
       "\n",
       "[2508 rows x 6 columns]"
      ]
     },
     "execution_count": 24,
     "metadata": {},
     "output_type": "execute_result"
    }
   ],
   "source": [
    "crime"
   ]
  },
  {
   "cell_type": "code",
   "execution_count": 25,
   "metadata": {},
   "outputs": [],
   "source": [
    "#download to csv\n",
    "crime.to_csv (r'C:\\Users\\Charu\\Desktop\\policeFip.csv', index = False, header=True)"
   ]
  }
 ],
 "metadata": {
  "kernelspec": {
   "display_name": "Python 3",
   "language": "python",
   "name": "python3"
  },
  "language_info": {
   "codemirror_mode": {
    "name": "ipython",
    "version": 3
   },
   "file_extension": ".py",
   "mimetype": "text/x-python",
   "name": "python",
   "nbconvert_exporter": "python",
   "pygments_lexer": "ipython3",
   "version": "3.7.4"
  }
 },
 "nbformat": 4,
 "nbformat_minor": 2
}
